{
  "nbformat": 4,
  "nbformat_minor": 0,
  "metadata": {
    "colab": {
      "name": "Assignement1_BasicsOfProg_Prasanna.ipynb",
      "provenance": []
    },
    "kernelspec": {
      "name": "python3",
      "display_name": "Python 3"
    },
    "language_info": {
      "name": "python"
    }
  },
  "cells": [
    {
      "cell_type": "code",
      "metadata": {
        "colab": {
          "base_uri": "https://localhost:8080/"
        },
        "id": "KQ0IHI6hRSzD",
        "outputId": "814830b1-b3fb-4889-8b76-c4e9a872ee23"
      },
      "source": [
        "from sympy import symbols, Eq , solve\n",
        "import numpy as np\n",
        "b=[]\n",
        "c=[]\n",
        "m=[]\n",
        "l1=input(\"Enter one of the extremities of the base(with space inbetween x and y): \").split()\n",
        "l2=input(\"Enter the other extremity of the base: \").split()\n",
        "a=int(input(\"Enter Area: \"))\n",
        "for i in l1:\n",
        "    b.append(int(i))\n",
        "for j in l2:\n",
        "    c.append(int(j))\n",
        "base= ((c[0]-b[0])**2 + (c[1]-b[1])**2)**0.5\n",
        "h=(2*a)/base\n",
        "b1=np.array(b)\n",
        "c1=np.array(c)\n",
        "m1=(b1+c1)/2\n",
        "m=list(m1)\n",
        "\n",
        "#print(b,type(b))\n",
        "#print(c,type(c))\n",
        "#print(m,type(m))\n",
        "#b=[-2,2]\n",
        "#c=[2,5]\n",
        "#print(type(b),type(c))\n",
        "\n",
        "x,y=symbols('x,y')\n",
        "eq1=Eq((((x-b[0])**2+(y-b[1])**2)-((x-c[0])**2+(y-c[1])**2)),0)\n",
        "eq2=Eq(((x-m[0])**2+(y-m[1])**2-h**2),0)\n",
        "print(solve((eq1,eq2),(x,y)))"
      ],
      "execution_count": 1,
      "outputs": [
        {
          "output_type": "stream",
          "name": "stdout",
          "text": [
            "Enter one of the extremities of the base(with space inbetween x and y): -2 2\n",
            "Enter the other extremity of the base: 2 5\n",
            "Enter Area: 25\n",
            "[(-6.00000000000000, 11.5000000000000), (6.00000000000000, -4.50000000000000)]\n"
          ]
        }
      ]
    }
  ]
}